{
 "cells": [
  {
   "cell_type": "code",
   "execution_count": 364,
   "metadata": {},
   "outputs": [],
   "source": [
    "import nltk\n",
    "import json\n",
    "from nltk.stem import WordNetLemmatizer\n",
    "from nltk.corpus import stopwords\n",
    "from collections import Counter\n",
    "\n",
    "import pandas as pd\n",
    "import numpy as np\n",
    "from sklearn import preprocessing\n",
    "from sklearn import metrics\n",
    "from sklearn.feature_extraction.text import CountVectorizer\n",
    "from sklearn.metrics import jaccard_similarity_score\n",
    "from scipy import spatial\n",
    "import matplotlib.pyplot as plt \n",
    "plt.rc(\"font\", size=14)\n",
    "from sklearn.linear_model import LogisticRegression\n",
    "from sklearn.model_selection import train_test_split\n",
    "from sklearn.metrics.pairwise import cosine_similarity\n",
    "import seaborn as sns\n",
    "%matplotlib inline\n",
    "\n",
    "import pickle\n",
    "import string\n",
    "from tqdm import tqdm, tqdm_notebook\n",
    "import time"
   ]
  },
  {
   "cell_type": "markdown",
   "metadata": {},
   "source": [
    "## Functions"
   ]
  },
  {
   "cell_type": "code",
   "execution_count": 211,
   "metadata": {},
   "outputs": [],
   "source": [
    "def createCorpus(json_data, stopwords):\n",
    "    j = json_data\n",
    "    corpus = []\n",
    "    \n",
    "    for data in tqdm(j['data']):\n",
    "        for paragraph in data[\"paragraphs\"]:\n",
    "            context = paragraph[\"context\"]\n",
    "            corpus.append(context)\n",
    "            for q in paragraph[\"qas\"]:\n",
    "                question = q[\"question\"]\n",
    "                corpus.append(question)\n",
    "    return corpus"
   ]
  },
  {
   "cell_type": "code",
   "execution_count": 179,
   "metadata": {},
   "outputs": [],
   "source": [
    "def getPOS(corpus, progress = True):\n",
    "    pos_tag = []\n",
    "    c = tqdm(corpus) if progress else corpus\n",
    "    for sentence in c:\n",
    "        text = nltk.word_tokenize(sentence)\n",
    "        pos_tag = nltk.pos_tag(text)\n",
    "    return pos_tag"
   ]
  },
  {
   "cell_type": "code",
   "execution_count": 370,
   "metadata": {},
   "outputs": [
    {
     "name": "stderr",
     "output_type": "stream",
     "text": [
      "100%|██████████| 1/1 [00:00<00:00, 695.46it/s]\n",
      "100%|██████████| 3/3 [00:00<00:00, 8473.34it/s]\n"
     ]
    },
    {
     "data": {
      "text/plain": [
       "{'Something': 'v', 'is': 'v', 'weird': None}"
      ]
     },
     "execution_count": 370,
     "metadata": {},
     "output_type": "execute_result"
    }
   ],
   "source": [
    "def makePOSDict(corpus):\n",
    "    pos = getPOS(corpus)\n",
    "    pos_dict = {}\n",
    "    for (word, tag) in tqdm(pos):\n",
    "        wtag = tag[0].lower()\n",
    "        wtag = wtag if wtag in [\"a\",\"r\",\"n\",\"v\"] else None\n",
    "        pos_dict[word] = wtag\n",
    "        \n",
    "    return pos_dict\n",
    "\n",
    "makePOSDict([\"Something is weird\"])"
   ]
  },
  {
   "cell_type": "code",
   "execution_count": 371,
   "metadata": {},
   "outputs": [],
   "source": [
    "def ourLemmatize(dictonary, corpus):\n",
    "    lemma = WordNetLemmatizer()\n",
    "    corp = []\n",
    "    for sentence in tqdm(corpus):\n",
    "        s = nltk.word_tokenize(sentence)\n",
    "        sent = []\n",
    "        for word in s:\n",
    "            if dictonary[word] != None:\n",
    "                nw = lemma.lemmatize(word, dictonary[word])\n",
    "                sent.append((nw, word))\n",
    "            else:\n",
    "                sent.append(word)\n",
    "#         corp.append(\" \".join(sent))\n",
    "        corp.append(sent)\n",
    "    return corp"
   ]
  },
  {
   "cell_type": "code",
   "execution_count": 180,
   "metadata": {},
   "outputs": [],
   "source": [
    "# Make and load pickles\n",
    "def makePickle(filename, data_file):\n",
    "    pickle_out = open(\"pickles/\" + filename + \".pickle\",\"wb\")\n",
    "    pickle.dump(data_file, pickle_out)\n",
    "    pickle_out.close()\n",
    "    \n",
    "def loadPickle(filename):\n",
    "    pickle_in = open(\"pickles/\" + filename + \".pickle\",\"rb\")\n",
    "    return pickle.load(pickle_in)"
   ]
  },
  {
   "cell_type": "code",
   "execution_count": 181,
   "metadata": {},
   "outputs": [],
   "source": [
    "def makeFeatures(features, pred = None):\n",
    "    # dict to array\n",
    "    y = []\n",
    "    xs = []\n",
    "    for k,v in features[0].items():\n",
    "        x = [feature[k] for feature in features]\n",
    "        \n",
    "        xs.append(x)\n",
    "        if pred != None:\n",
    "            y.append(pred[k])\n",
    "        else:\n",
    "            y.append(k)\n",
    "        \n",
    "    Y = np.array(y)\n",
    "    X = np.array(xs)\n",
    "    \n",
    "#     X_mod = preprocessing.QuantileTransformer(output_distribution='uniform').fit_transform(X)\n",
    "    \n",
    "    return X,Y"
   ]
  },
  {
   "cell_type": "code",
   "execution_count": 200,
   "metadata": {},
   "outputs": [],
   "source": [
    "def oneHotEncode(columnId, feature_data):\n",
    "    # Select categorical data\n",
    "    df = pd.DataFrame(data=feature_data)\n",
    "    newdf = df.iloc[:,columnId:columnId+1]\n",
    "    \n",
    "    le = preprocessing.LabelEncoder()\n",
    "    enc = preprocessing.OneHotEncoder()\n",
    "    \n",
    "    X_1 = df.drop([columnId],1)\n",
    "\n",
    "    X_2 = newdf.apply(le.fit_transform)\n",
    "    enc.fit(X_2)\n",
    "    onehotlabels = enc.transform(X_2).toarray()\n",
    "    X_2 =  pd.DataFrame(data=onehotlabels)\n",
    "    \n",
    "    feature_data = pd.concat([X_1, X_2], axis=1, sort=False)\n",
    "    return feature_data.values"
   ]
  },
  {
   "cell_type": "code",
   "execution_count": 228,
   "metadata": {},
   "outputs": [],
   "source": [
    "def saveToFile(preds, keys, filename):\n",
    "    predictions = {}\n",
    "    for i in range(len(keys)):\n",
    "        key = keys[i]\n",
    "        predictions[key] = preds[i]\n",
    "    \n",
    "    with open(filename + '.csv', 'w') as f:\n",
    "        f.write(\"Id,Category\\n\")\n",
    "        for k,v in predictions.items():\n",
    "            f.write(\"%s,%s\\n\"%(k,v))\n",
    "\n",
    "        f.close()"
   ]
  },
  {
   "cell_type": "markdown",
   "metadata": {},
   "source": [
    "## Load data"
   ]
  },
  {
   "cell_type": "code",
   "execution_count": 183,
   "metadata": {},
   "outputs": [],
   "source": [
    "with open('training.json') as f:\n",
    "    json_data = json.load(f)\n",
    "with open('development.json') as f:\n",
    "    json_data_validate = json.load(f)"
   ]
  },
  {
   "cell_type": "code",
   "execution_count": 315,
   "metadata": {},
   "outputs": [
    {
     "data": {
      "text/plain": [
       "'What was the first album Beyoncé released as a solo artist?'"
      ]
     },
     "execution_count": 315,
     "metadata": {},
     "output_type": "execute_result"
    }
   ],
   "source": [
    "try:\n",
    "    corpus = loadPickle('corpus')\n",
    "except:\n",
    "    stop_words = set(stopwords.words('english'))\n",
    "    stop_words.union(set(string.punctuation))\n",
    "    corpus = createCorpus(json_data, stop_words)\n",
    "    makePickle('corpus', corpus)\n",
    "\n",
    "corpus[1]"
   ]
  },
  {
   "cell_type": "code",
   "execution_count": 330,
   "metadata": {},
   "outputs": [
    {
     "data": {
      "text/plain": [
       "'When did Beyoncé release Dangerously in Love?'"
      ]
     },
     "execution_count": 330,
     "metadata": {},
     "output_type": "execute_result"
    }
   ],
   "source": [
    "try:\n",
    "    corpus_val = loadPickle('corpus_val')\n",
    "except:\n",
    "    stop_words = set(stopwords.words('english'))\n",
    "    stop_words.union(set(string.punctuation))\n",
    "    corpus_val = createCorpus(json_data_validate, stop_words)\n",
    "    makePickle('corpus_val', corpus_val)\n",
    "\n",
    "corpus_val[1]"
   ]
  },
  {
   "cell_type": "markdown",
   "metadata": {},
   "source": [
    "### POS Dict and Lemmatized corpus"
   ]
  },
  {
   "cell_type": "code",
   "execution_count": 331,
   "metadata": {},
   "outputs": [
    {
     "data": {
      "text/plain": [
       "('Beyoncé', 'n')"
      ]
     },
     "execution_count": 331,
     "metadata": {},
     "output_type": "execute_result"
    }
   ],
   "source": [
    "try:\n",
    "    pos_dict = loadPickle('pos_dic')\n",
    "except:\n",
    "    pos_dict = makePOSDict(corpus)\n",
    "    makePickle('pos_dic', pos_dict)\n",
    "    \n",
    "next(iter(pos_dict.keys())), next(iter(pos_dict.values()))"
   ]
  },
  {
   "cell_type": "code",
   "execution_count": 399,
   "metadata": {},
   "outputs": [
    {
     "name": "stderr",
     "output_type": "stream",
     "text": [
      "100%|██████████| 88631/88631 [00:43<00:00, 2051.96it/s]\n"
     ]
    }
   ],
   "source": [
    "try:\n",
    "    corpus_lemmatize = loadPickle('corpus_lemmatize')\n",
    "except:\n",
    "    corpus_lemmatize = ourLemmatize(pos_dict, corpus)\n",
    "    makePickle('corpus_lemmatize', corpus_lemmatize)"
   ]
  },
  {
   "cell_type": "code",
   "execution_count": 400,
   "metadata": {},
   "outputs": [
    {
     "data": {
      "text/plain": [
       "('Beyoncé', 'n')"
      ]
     },
     "execution_count": 400,
     "metadata": {},
     "output_type": "execute_result"
    }
   ],
   "source": [
    "try:\n",
    "    pos_dic_val = loadPickle('pos_dic_val')\n",
    "except:\n",
    "    pos_dic_val = makePOSDict(corpus_val)\n",
    "    makePickle('pos_dic_val', pos_dic_val)\n",
    "    \n",
    "next(iter(pos_dic_val.keys())), next(iter(pos_dic_val.values()))"
   ]
  },
  {
   "cell_type": "code",
   "execution_count": 398,
   "metadata": {},
   "outputs": [
    {
     "name": "stderr",
     "output_type": "stream",
     "text": [
      "100%|██████████| 36435/36435 [00:34<00:00, 1071.29it/s]\n"
     ]
    }
   ],
   "source": [
    "try:\n",
    "    corpus_lemmatize_val = loadPickle('corpus_lemmatize_val')\n",
    "except:\n",
    "    corpus_lemmatize_val = ourLemmatize(pos_dic_val, corpus_val)\n",
    "    makePickle('corpus_lemmatize_val', corpus_lemmatize_val)"
   ]
  },
  {
   "cell_type": "markdown",
   "metadata": {},
   "source": [
    "## Predictions"
   ]
  },
  {
   "cell_type": "code",
   "execution_count": 186,
   "metadata": {},
   "outputs": [],
   "source": [
    "def getPredictions(json_data):\n",
    "    pred = {}\n",
    "    for obj in tqdm(json_data[\"data\"]):\n",
    "        for para in obj[\"paragraphs\"]:\n",
    "            for q in para[\"qas\"]:\n",
    "                question_id = q[\"id\"]\n",
    "                pred[question_id] = 0 if q[\"is_impossible\"] else 1\n",
    "                \n",
    "    return pred"
   ]
  },
  {
   "cell_type": "code",
   "execution_count": 187,
   "metadata": {},
   "outputs": [
    {
     "name": "stderr",
     "output_type": "stream",
     "text": [
      "100%|██████████| 442/442 [00:00<00:00, 13604.58it/s]\n",
      "100%|██████████| 442/442 [00:00<00:00, 32091.86it/s]\n"
     ]
    }
   ],
   "source": [
    "pred =  getPredictions(json_data)\n",
    "pred_validate = getPredictions(json_data_validate)"
   ]
  },
  {
   "cell_type": "markdown",
   "metadata": {},
   "source": [
    "## Jaccard Sentence"
   ]
  },
  {
   "cell_type": "code",
   "execution_count": 13,
   "metadata": {},
   "outputs": [
    {
     "data": {
      "text/plain": [
       "0.6842105263157895"
      ]
     },
     "execution_count": 13,
     "metadata": {},
     "output_type": "execute_result"
    }
   ],
   "source": [
    "# Jaccard Similarity function\n",
    "def DistJaccard(str1, str2):\n",
    "    str1 = set(str1)\n",
    "    str2 = set(str2)\n",
    "    jd = nltk.jaccard_distance(str1, str2)\n",
    "#     manual = float(len(str1 & str2)) / len(str1 | str2)\n",
    "    return jd\n",
    "\n",
    "DistJaccard(\"something stuped okay lol\",\"Okay cool lol\")"
   ]
  },
  {
   "cell_type": "code",
   "execution_count": 14,
   "metadata": {},
   "outputs": [],
   "source": [
    "def getJaccard(json_data, corpus):\n",
    "    jac_similarity = {}\n",
    "    counter = 0\n",
    "    for obj in tqdm(json_data[\"data\"]):\n",
    "        for para in obj[\"paragraphs\"]:\n",
    "            context = corpus[counter]\n",
    "\n",
    "            counter += 1\n",
    "            for q in para[\"qas\"]:\n",
    "                question_id = q[\"id\"]\n",
    "                question = corpus[counter]\n",
    "                \n",
    "                sim = np.array([DistJaccard(sent,question) for sent in context.split(\".\")])\n",
    "                jac_similarity[question_id] = np.mean(sim)\n",
    "                \n",
    "                counter += 1\n",
    "                \n",
    "    return jac_similarity"
   ]
  },
  {
   "cell_type": "code",
   "execution_count": 15,
   "metadata": {},
   "outputs": [
    {
     "name": "stderr",
     "output_type": "stream",
     "text": [
      "100%|██████████| 442/442 [00:05<00:00, 83.44it/s]\n"
     ]
    }
   ],
   "source": [
    "jac_similarity = getJaccard(json_data, corpus)"
   ]
  },
  {
   "cell_type": "code",
   "execution_count": 16,
   "metadata": {},
   "outputs": [
    {
     "name": "stderr",
     "output_type": "stream",
     "text": [
      "100%|██████████| 442/442 [00:01<00:00, 322.43it/s]\n"
     ]
    }
   ],
   "source": [
    "jac_similarity_val = getJaccard(json_data_validate, corpus_val)"
   ]
  },
  {
   "cell_type": "markdown",
   "metadata": {},
   "source": [
    "## Cosine Sentence"
   ]
  },
  {
   "cell_type": "code",
   "execution_count": 188,
   "metadata": {},
   "outputs": [],
   "source": [
    "def documentVector(doc, WEModel):\n",
    "    # remove out-of-vocabulary words\n",
    "    doc = [word for word in doc if word in WEModel.vocab]\n",
    "    try:\n",
    "        return np.mean(WEModel[doc], axis=0)\n",
    "    except:\n",
    "        return np.zeros(300)"
   ]
  },
  {
   "cell_type": "code",
   "execution_count": 189,
   "metadata": {},
   "outputs": [],
   "source": [
    "def getCosine(WEModel, json_data, corp):\n",
    "    cos_similarity = {}\n",
    "    counter = 0\n",
    "    for obj in tqdm(json_data[\"data\"]):\n",
    "        for para in obj[\"paragraphs\"]:\n",
    "\n",
    "            context = corp[counter]\n",
    "            context_vector = documentVector(context, WEModel)\n",
    "\n",
    "            counter += 1\n",
    "            for q in para[\"qas\"]:\n",
    "                question_id = q[\"id\"]\n",
    "                question_vector = documentVector(corp[counter], WEModel)\n",
    "                \n",
    "                sim = np.array([cosine_similarity(np.array([documentVector(s, WEModel), question_vector]))[0][1] for s in context.split(\".\")])\n",
    "#                 cos_similarity[question_id] = cosine_similarity(np.array([context_vector, question_vector]))[0][1]\n",
    "                cos_similarity[question_id] = np.mean(sim)\n",
    "                \n",
    "                counter += 1\n",
    "                \n",
    "    return cos_similarity"
   ]
  },
  {
   "cell_type": "code",
   "execution_count": 176,
   "metadata": {},
   "outputs": [],
   "source": [
    "from gensim.models import KeyedVectors\n",
    "word_2vec_cached = KeyedVectors.load_word2vec_format(\"WE/GoogleNews-vectors-negative300.bin\", binary=True)"
   ]
  },
  {
   "cell_type": "code",
   "execution_count": 190,
   "metadata": {},
   "outputs": [
    {
     "name": "stderr",
     "output_type": "stream",
     "text": [
      "100%|██████████| 442/442 [04:34<00:00,  2.05it/s]\n"
     ]
    }
   ],
   "source": [
    "cos_similarity = getCosine(word_2vec_cached, json_data, corpus)"
   ]
  },
  {
   "cell_type": "code",
   "execution_count": 191,
   "metadata": {},
   "outputs": [
    {
     "name": "stderr",
     "output_type": "stream",
     "text": [
      "100%|██████████| 442/442 [01:39<00:00,  5.51it/s]\n"
     ]
    }
   ],
   "source": [
    "cos_similarity_val = getCosine(word_2vec_cached, json_data_validate, corpus_val)"
   ]
  },
  {
   "cell_type": "markdown",
   "metadata": {},
   "source": [
    "## Question Type"
   ]
  },
  {
   "cell_type": "code",
   "execution_count": 74,
   "metadata": {},
   "outputs": [
    {
     "data": {
      "text/plain": [
       "20"
      ]
     },
     "execution_count": 74,
     "metadata": {},
     "output_type": "execute_result"
    }
   ],
   "source": [
    "question_words = [\"who\", \"what\", \"when\", \"where\", \"why\", \"how\", \"which\", \"whose\", \"whom\", \"is\", \"was\", \"are\", \"does\", \"did\", \"were\", \"can\", \"do\", \"has\", \"had\", \"name\"]\n",
    "len(question_words)"
   ]
  },
  {
   "cell_type": "code",
   "execution_count": 251,
   "metadata": {},
   "outputs": [
    {
     "data": {
      "text/plain": [
       "'when'"
      ]
     },
     "execution_count": 251,
     "metadata": {},
     "output_type": "execute_result"
    }
   ],
   "source": [
    "def getQuestionWord(question, question_words):\n",
    "    question_array = [question]\n",
    "    question_pos = getPOS(question_array, False)\n",
    "    q_word = \"<unk>\"\n",
    "\n",
    "    for (w,t) in question_pos:\n",
    "        word = w.lower()\n",
    "        if word in question_words:\n",
    "            q_word = word\n",
    "            break\n",
    "    \n",
    "    return q_word\n",
    "\n",
    "getQuestionWord(\"When did Beyoncé release Dangerously in Love?\", question_words)"
   ]
  },
  {
   "cell_type": "code",
   "execution_count": 252,
   "metadata": {},
   "outputs": [],
   "source": [
    "def getQuestionWords(json_data, corp, question_words):\n",
    "    words = {}\n",
    "    counter = 0\n",
    "    for obj in tqdm(json_data[\"data\"]):\n",
    "        for para in obj[\"paragraphs\"]:\n",
    "\n",
    "            counter += 1\n",
    "            for q in para[\"qas\"]:\n",
    "                question_id = q[\"id\"]\n",
    "                words[question_id] = getQuestionWord(corp[counter], question_words)\n",
    "                \n",
    "                counter += 1\n",
    "                \n",
    "    return words"
   ]
  },
  {
   "cell_type": "code",
   "execution_count": 253,
   "metadata": {},
   "outputs": [
    {
     "name": "stderr",
     "output_type": "stream",
     "text": [
      "100%|██████████| 442/442 [00:55<00:00,  7.94it/s]\n"
     ]
    }
   ],
   "source": [
    "questionWords = getQuestionWords(json_data, corpus, question_words)"
   ]
  },
  {
   "cell_type": "code",
   "execution_count": 254,
   "metadata": {},
   "outputs": [
    {
     "name": "stderr",
     "output_type": "stream",
     "text": [
      "100%|██████████| 442/442 [00:13<00:00, 31.84it/s]\n"
     ]
    }
   ],
   "source": [
    "questionWords_val = getQuestionWords(json_data_validate, corpus_val, question_words)"
   ]
  },
  {
   "cell_type": "markdown",
   "metadata": {},
   "source": [
    "## NER"
   ]
  },
  {
   "cell_type": "code",
   "execution_count": 255,
   "metadata": {},
   "outputs": [],
   "source": [
    "whoTags = [\"B-PERSON\", \"I-PERSON\"]\n",
    "whatTags = [\"B-GPE\", \"I-GPE\", \"B-LOCATION\", \"I_LOCATION\"]\n",
    "whenTags = [\"B-DATE\", \"I-DATE\", \"B-TIME\", \"I-TIME\"]\n",
    "otherTags = [\"B-PERSON\", \"I-PERSON\", \"B-GPE\", \"I-GPE\", \"B-LOCATION\", \"I-LOCATION\", \"B-DATE\", \"I-DATE\", \"B-TIME\", \"I-TIME\"]"
   ]
  },
  {
   "cell_type": "code",
   "execution_count": 256,
   "metadata": {},
   "outputs": [],
   "source": [
    "# maps question word to NER\n",
    "qwordTagMap = {}\n",
    "for question_word in question_words:\n",
    "    qwordTagMap[question_word] = otherTags\n",
    "    qwordTagMap[\"who\"] = whoTags\n",
    "    qwordTagMap[\"what\"] = whatTags\n",
    "    qwordTagMap[\"when\"] = whenTags\n",
    "    qwordTagMap[\"<unk>\"] = otherTags"
   ]
  },
  {
   "cell_type": "code",
   "execution_count": 285,
   "metadata": {},
   "outputs": [
    {
     "data": {
      "text/plain": [
       "0"
      ]
     },
     "execution_count": 285,
     "metadata": {},
     "output_type": "execute_result"
    }
   ],
   "source": [
    "def getNERCount(question_words, q_word, question, context, qwordTagMap):\n",
    "    '''\n",
    "    for the question word, does the corresponding NER tag exist in the context.\n",
    "    For every NER tag exists, see if that word is in the question\n",
    "    if yes dont count, else count\n",
    "    '''\n",
    "    qwordTags = qwordTagMap[q_word]\n",
    "    num_of_tags_in_context = 0\n",
    "    \n",
    "    context_words = nltk.word_tokenize(context)\n",
    "    context_chunks = nltk.chunk.util.tree2conlltags(nltk.ne_chunk(nltk.pos_tag(context_words)))\n",
    "    \n",
    "#     print(time.time() - start)\n",
    "#     start = time.time()\n",
    "\n",
    "    if (len(context_chunks) > 0):\n",
    "        for context_chunk in context_chunks:\n",
    "            if (context_chunk[2] in qwordTags and context_chunk[0] not in question):\n",
    "                num_of_tags_in_context += 1\n",
    "                \n",
    "#     print(time.time() - start)\n",
    "#     start = time.time()\n",
    "\n",
    "    return num_of_tags_in_context\n",
    "\n",
    "getNERCount(question_words,\"when\", \"When was the first album Beyoncé released as a solo artist?\", \"Beyoncé Giselle Knowles-Carter (/biːˈjɒnseɪ/ bee-YON-say) (born September 4, 1981) is an American singer, songwriter, record producer and actress\", qwordTagMap)"
   ]
  },
  {
   "cell_type": "code",
   "execution_count": 286,
   "metadata": {},
   "outputs": [],
   "source": [
    "def getNERCounts(json_data, corp, questionKey, question_words, qwordTagMap):\n",
    "    counts = {}\n",
    "    counter = 0\n",
    "    for obj in tqdm(json_data[\"data\"]):\n",
    "        for para in obj[\"paragraphs\"]:\n",
    "            \n",
    "            context = corp[counter]\n",
    "            counter += 1\n",
    "            for q in para[\"qas\"]:\n",
    "                question_id = q[\"id\"]\n",
    "                counts[question_id] = getNERCount(question_words, questionKey[question_id], corp[counter], context, qwordTagMap)\n",
    "                \n",
    "                counter += 1\n",
    "                \n",
    "    return counts"
   ]
  },
  {
   "cell_type": "code",
   "execution_count": 417,
   "metadata": {},
   "outputs": [],
   "source": [
    "try:\n",
    "    nerCounts = loadPickle('nerCounts')\n",
    "except:\n",
    "    nerCounts = getNERCounts(json_data, corpus, questionWords, question_words, qwordTagMap)"
   ]
  },
  {
   "cell_type": "code",
   "execution_count": 419,
   "metadata": {},
   "outputs": [],
   "source": [
    "try:\n",
    "    nerCountsVal = loadPickle('nerCounts_val')\n",
    "except:\n",
    "    nerCountsVal = getNERCounts(json_data_validate, corpus_val, questionWords_val, question_words, qwordTagMap)"
   ]
  },
  {
   "cell_type": "markdown",
   "metadata": {},
   "source": [
    "## Verb Nouns"
   ]
  },
  {
   "cell_type": "code",
   "execution_count": 375,
   "metadata": {},
   "outputs": [
    {
     "data": {
      "text/plain": [
       "(['do', 'grow'], ['city', 'state', 'Beyonce'])"
      ]
     },
     "execution_count": 375,
     "metadata": {},
     "output_type": "execute_result"
    }
   ],
   "source": [
    "def getQuestionVerbsNouns(question_array, pos_dict):\n",
    "    question_pos = [(w, pos_dict[W]) for (w, W) in question_array]\n",
    "    q_verbs = []\n",
    "    q_nouns = []\n",
    "    \n",
    "    for (w,t) in question_pos:\n",
    "        if t == \"v\":\n",
    "            q_verbs.append(w)\n",
    "        elif t == \"n\":\n",
    "            q_nouns.append(w)\n",
    "    \n",
    "    return q_verbs, q_nouns\n",
    "\n",
    "arr = 'In what city and state do Beyonce grow up ?'.split(\" \")\n",
    "arr = zip(arr,arr)\n",
    "getQuestionVerbsNouns(arr, pos_dict)"
   ]
  },
  {
   "cell_type": "code",
   "execution_count": 376,
   "metadata": {},
   "outputs": [
    {
     "data": {
      "text/plain": [
       "(1, 3)"
      ]
     },
     "execution_count": 376,
     "metadata": {},
     "output_type": "execute_result"
    }
   ],
   "source": [
    "def getVerbNounCount(question_array, context_set, pos_dict):\n",
    "    q_verbs, q_nouns = getQuestionVerbsNouns(question_array, pos_dict)\n",
    "    return len(context_set & set(q_verbs)), len(context_set & set(q_nouns))\n",
    "\n",
    "getVerbNounCount(zip(corpus_lemmatize[1],corpus_lemmatize[1]), set(corpus_lemmatize[0]), pos_dict)"
   ]
  },
  {
   "cell_type": "code",
   "execution_count": 381,
   "metadata": {},
   "outputs": [],
   "source": [
    "def getVerbNounCounts(json_data, corp, corp_lemmatized, pos_dict):\n",
    "    verbCounts = {}\n",
    "    nounCounts = {}\n",
    "    counter = 0\n",
    "    for obj in tqdm(json_data[\"data\"]):\n",
    "        for para in obj[\"paragraphs\"]:\n",
    "            \n",
    "            context_array = corp_lemmatized[counter]\n",
    "            context_set = set(context_array)\n",
    "            counter += 1\n",
    "            for q in para[\"qas\"]:\n",
    "                question_id = q[\"id\"]\n",
    "                question_lem_array = corp_lemmatized[counter]\n",
    "                question_array = nltk.word_tokenize(corp[counter])\n",
    "                arr = zip(question_lem_array, question_array)\n",
    "                verbCounts[question_id], nounCounts[question_id] = getVerbNounCount(arr, context_set, pos_dict)\n",
    "                \n",
    "                counter += 1\n",
    "                \n",
    "    return verbCounts, nounCounts"
   ]
  },
  {
   "cell_type": "code",
   "execution_count": 382,
   "metadata": {},
   "outputs": [
    {
     "name": "stderr",
     "output_type": "stream",
     "text": [
      "100%|██████████| 442/442 [00:10<00:00, 41.00it/s]\n"
     ]
    }
   ],
   "source": [
    "verbCounts,nounCounts  = getVerbNounCounts(json_data, corpus, corpus_lemmatize, pos_dict)"
   ]
  },
  {
   "cell_type": "code",
   "execution_count": 401,
   "metadata": {},
   "outputs": [
    {
     "name": "stderr",
     "output_type": "stream",
     "text": [
      "100%|██████████| 442/442 [00:03<00:00, 143.19it/s]\n"
     ]
    }
   ],
   "source": [
    "verbCounts_val,nounCounts_val  = getVerbNounCounts(json_data_validate, corpus_val, corpus_lemmatize_val, pos_dic_val)"
   ]
  },
  {
   "cell_type": "markdown",
   "metadata": {},
   "source": [
    "## Test Feature"
   ]
  },
  {
   "cell_type": "code",
   "execution_count": 192,
   "metadata": {},
   "outputs": [
    {
     "data": {
      "text/plain": [
       "Text(0.5, 0, 'Predicted label')"
      ]
     },
     "execution_count": 192,
     "metadata": {},
     "output_type": "execute_result"
    },
    {
     "data": {
      "image/png": "[encoded data removed]",
      "text/plain": [
       "<Figure size 432x288 with 1 Axes>"
      ]
     },
     "metadata": {},
     "output_type": "display_data"
    }
   ],
   "source": [
    "feature = cos_similarity\n",
    "prediction = pred\n",
    "\n",
    "# dict to array\n",
    "y = []\n",
    "x = []\n",
    "for k,v in feature.items():\n",
    "    x.append(v)\n",
    "    y.append(prediction[k])\n",
    "    \n",
    "xy = np.array([x,y])\n",
    "data = pd.DataFrame(data=np.transpose(xy))\n",
    "data.head()\n",
    "data.plot(kind='scatter', x=1, y=0)\n",
    "plt.ylabel('Feature score')\n",
    "plt.xlabel('Predicted label')"
   ]
  },
  {
   "cell_type": "markdown",
   "metadata": {},
   "source": [
    "## Make Features"
   ]
  },
  {
   "cell_type": "code",
   "execution_count": 402,
   "metadata": {},
   "outputs": [],
   "source": [
    "features = [jac_similarity, cos_similarity, nerCounts, nounCounts, verbCounts, questionWords]\n",
    "X_train,y_train = makeFeatures(features, pred)"
   ]
  },
  {
   "cell_type": "code",
   "execution_count": 403,
   "metadata": {},
   "outputs": [],
   "source": [
    "features = [jac_similarity_val, cos_similarity_val, nerCountsVal, nounCounts_val, verbCounts_val, questionWords_val]\n",
    "X_test,y_test = makeFeatures(features, pred_validate)"
   ]
  },
  {
   "cell_type": "code",
   "execution_count": 404,
   "metadata": {},
   "outputs": [
    {
     "name": "stderr",
     "output_type": "stream",
     "text": [
      "/Library/Frameworks/Python.framework/Versions/3.6/lib/python3.6/site-packages/sklearn/preprocessing/_encoders.py:368: FutureWarning: The handling of integer data will change in version 0.22. Currently, the categories are determined based on the range [0, max(values)], while in the future they will be determined based on the unique values.\n",
      "If you want the future behaviour and silence this warning, you can specify \"categories='auto'\".\n",
      "In case you used a LabelEncoder before this OneHotEncoder to convert the categories to integers, then you can now use the OneHotEncoder directly.\n",
      "  warnings.warn(msg, FutureWarning)\n",
      "/Library/Frameworks/Python.framework/Versions/3.6/lib/python3.6/site-packages/sklearn/preprocessing/_encoders.py:368: FutureWarning: The handling of integer data will change in version 0.22. Currently, the categories are determined based on the range [0, max(values)], while in the future they will be determined based on the unique values.\n",
      "If you want the future behaviour and silence this warning, you can specify \"categories='auto'\".\n",
      "In case you used a LabelEncoder before this OneHotEncoder to convert the categories to integers, then you can now use the OneHotEncoder directly.\n",
      "  warnings.warn(msg, FutureWarning)\n"
     ]
    }
   ],
   "source": [
    "X_train = oneHotEncode(5, X_train)\n",
    "X_test = oneHotEncode(5, X_test)"
   ]
  },
  {
   "cell_type": "code",
   "execution_count": 405,
   "metadata": {},
   "outputs": [
    {
     "data": {
      "text/plain": [
       "(69596, 17400, 69596, 17400)"
      ]
     },
     "execution_count": 405,
     "metadata": {},
     "output_type": "execute_result"
    }
   ],
   "source": [
    "len(X_train),len(X_test),len(y_train),len(y_test)"
   ]
  },
  {
   "cell_type": "markdown",
   "metadata": {},
   "source": [
    "## Logistic Regression"
   ]
  },
  {
   "cell_type": "code",
   "execution_count": 406,
   "metadata": {},
   "outputs": [
    {
     "data": {
      "text/plain": [
       "LogisticRegression(C=0.1, class_weight=None, dual=False, fit_intercept=True,\n",
       "          intercept_scaling=1, max_iter=10000, multi_class='warn',\n",
       "          n_jobs=None, penalty='l2', random_state=None, solver='lbfgs',\n",
       "          tol=0.0001, verbose=0, warm_start=False)"
      ]
     },
     "execution_count": 406,
     "metadata": {},
     "output_type": "execute_result"
    }
   ],
   "source": [
    "# all parameters not specified are set to their defaults\n",
    "logisticRegr = LogisticRegression(C=0.1,max_iter=10000, solver=\"lbfgs\")\n",
    "logisticRegr.fit(X_train, y_train)"
   ]
  },
  {
   "cell_type": "code",
   "execution_count": 407,
   "metadata": {},
   "outputs": [],
   "source": [
    "y_pred=logisticRegr.predict(X_test)"
   ]
  },
  {
   "cell_type": "markdown",
   "metadata": {},
   "source": [
    "## Plot"
   ]
  },
  {
   "cell_type": "code",
   "execution_count": 408,
   "metadata": {},
   "outputs": [
    {
     "data": {
      "text/plain": [
       "Text(0.5, 257.44, 'Predicted label')"
      ]
     },
     "execution_count": 408,
     "metadata": {},
     "output_type": "execute_result"
    },
    {
     "data": {
      "image/png": "[encoded data removed]",
      "text/plain": [
       "<Figure size 432x288 with 2 Axes>"
      ]
     },
     "metadata": {},
     "output_type": "display_data"
    }
   ],
   "source": [
    "class_names=[0,1] # name  of classes\n",
    "fig, ax = plt.subplots()\n",
    "tick_marks = np.arange(len(class_names))\n",
    "plt.xticks(tick_marks, class_names)\n",
    "plt.yticks(tick_marks, class_names)\n",
    "# create heatmap\n",
    "cnf_matrix = metrics.confusion_matrix(y_test, y_pred)\n",
    "sns.heatmap(pd.DataFrame(cnf_matrix), annot=True, cmap=\"YlGnBu\" ,fmt='g')\n",
    "ax.xaxis.set_label_position(\"top\")\n",
    "plt.tight_layout()\n",
    "plt.title('Confusion matrix', y=1.1)\n",
    "plt.ylabel('Actual label')\n",
    "plt.xlabel('Predicted label')"
   ]
  },
  {
   "cell_type": "code",
   "execution_count": 409,
   "metadata": {},
   "outputs": [
    {
     "name": "stdout",
     "output_type": "stream",
     "text": [
      "Accuracy: 0.5446551724137931\n",
      "Precision: 0.5561172901921132\n",
      "Recall: 0.4425287356321839\n",
      "F-Score: 0.4928630864750688\n"
     ]
    }
   ],
   "source": [
    "print(\"Accuracy:\",metrics.accuracy_score(y_test, y_pred))\n",
    "print(\"Precision:\",metrics.precision_score(y_test, y_pred))\n",
    "print(\"Recall:\",metrics.recall_score(y_test, y_pred))\n",
    "print(\"F-Score:\",metrics.f1_score(y_test, y_pred))"
   ]
  },
  {
   "cell_type": "markdown",
   "metadata": {},
   "source": [
    "## Test"
   ]
  },
  {
   "cell_type": "code",
   "execution_count": 410,
   "metadata": {},
   "outputs": [],
   "source": [
    "with open('test.json') as f:\n",
    "    test_json_data = json.load(f)"
   ]
  },
  {
   "cell_type": "code",
   "execution_count": 395,
   "metadata": {},
   "outputs": [],
   "source": [
    "try:\n",
    "    corpus_test = loadPickle('corpus_test')\n",
    "except:\n",
    "    stop_words = set(stopwords.words('english'))\n",
    "    stop_words.union(set(string.punctuation))\n",
    "    corpus_test = createCorpus(json_data, stop_words)\n",
    "    makePickle('corpus_test', corpus)"
   ]
  },
  {
   "cell_type": "code",
   "execution_count": 411,
   "metadata": {},
   "outputs": [
    {
     "name": "stderr",
     "output_type": "stream",
     "text": [
      "100%|██████████| 88631/88631 [03:20<00:00, 439.93it/s]\n",
      "100%|██████████| 3320578/3320578 [00:02<00:00, 1244484.81it/s]\n"
     ]
    },
    {
     "data": {
      "text/plain": [
       "('Beyoncé', 'n')"
      ]
     },
     "execution_count": 411,
     "metadata": {},
     "output_type": "execute_result"
    }
   ],
   "source": [
    "try:\n",
    "    pos_dict_test = loadPickle('pos_dic_test')\n",
    "except:\n",
    "    pos_dict_test = makePOSDict(corpus_test)\n",
    "    makePickle('pos_dic_test', pos_dict_test)\n",
    "    \n",
    "next(iter(pos_dict_test.keys())), next(iter(pos_dict_test.values()))"
   ]
  },
  {
   "cell_type": "code",
   "execution_count": 412,
   "metadata": {},
   "outputs": [
    {
     "name": "stderr",
     "output_type": "stream",
     "text": [
      "100%|██████████| 88631/88631 [00:44<00:00, 2002.60it/s]\n"
     ]
    }
   ],
   "source": [
    "try:\n",
    "    corpus_lemmatize_test = loadPickle('corpus_lemmatize_test')\n",
    "except:\n",
    "    corpus_lemmatize_test = ourLemmatize(pos_dict, corpus_test)\n",
    "    makePickle('corpus_lemmatize_test', corpus_lemmatize_test)"
   ]
  },
  {
   "cell_type": "code",
   "execution_count": 413,
   "metadata": {},
   "outputs": [
    {
     "name": "stderr",
     "output_type": "stream",
     "text": [
      "100%|██████████| 35/35 [00:00<00:00, 62.56it/s]\n",
      "100%|██████████| 35/35 [00:16<00:00,  2.04it/s]\n",
      "100%|██████████| 35/35 [00:22<00:00,  1.37it/s]\n",
      "100%|██████████| 35/35 [00:04<00:00,  6.74it/s]\n",
      "100%|██████████| 35/35 [02:21<00:00,  3.90s/it]\n"
     ]
    }
   ],
   "source": [
    "test_jac_similarity = getJaccard(test_json_data, corpus_test)\n",
    "test_cos_similarity = getCosine(word_2vec_cached, test_json_data, corpus_test)\n",
    "test_questionWords  = getQuestionWords(test_json_data, corpus_test, question_words)\n",
    "test_verbCounts, test_nounCounts  = getVerbNounCounts(test_json_data, corpus_test, corpus_lemmatize_test, pos_dict_test)\n",
    "\n",
    "try:\n",
    "    test_nerCounts = loadPickle('test_nerCounts')\n",
    "except:\n",
    "    test_nerCounts = getNERCounts(test_json_data, corpus_test, test_questionWords, question_words, qwordTagMap)"
   ]
  },
  {
   "cell_type": "code",
   "execution_count": 414,
   "metadata": {},
   "outputs": [],
   "source": [
    "makePickle(\"test_nerCounts\", test_nerCounts)"
   ]
  },
  {
   "cell_type": "code",
   "execution_count": 415,
   "metadata": {},
   "outputs": [
    {
     "name": "stderr",
     "output_type": "stream",
     "text": [
      "/Library/Frameworks/Python.framework/Versions/3.6/lib/python3.6/site-packages/sklearn/preprocessing/_encoders.py:368: FutureWarning: The handling of integer data will change in version 0.22. Currently, the categories are determined based on the range [0, max(values)], while in the future they will be determined based on the unique values.\n",
      "If you want the future behaviour and silence this warning, you can specify \"categories='auto'\".\n",
      "In case you used a LabelEncoder before this OneHotEncoder to convert the categories to integers, then you can now use the OneHotEncoder directly.\n",
      "  warnings.warn(msg, FutureWarning)\n"
     ]
    }
   ],
   "source": [
    "features = [test_jac_similarity, test_cos_similarity, test_verbCounts, test_nounCounts, test_nerCounts, test_questionWords]\n",
    "X_out,keys = makeFeatures(features)\n",
    "X_out = oneHotEncode(5, X_out)\n",
    "y_pred_test = logisticRegr.predict(X_out)"
   ]
  },
  {
   "cell_type": "code",
   "execution_count": 416,
   "metadata": {},
   "outputs": [],
   "source": [
    "saveToFile(y_pred_test, keys, \"out_test\")"
   ]
  },
  {
   "cell_type": "code",
   "execution_count": 226,
   "metadata": {},
   "outputs": [],
   "source": []
  },
  {
   "cell_type": "code",
   "execution_count": null,
   "metadata": {},
   "outputs": [],
   "source": []
  }
 ],
 "metadata": {
  "kernelspec": {
   "display_name": "Python 3",
   "language": "python",
   "name": "python3"
  },
  "language_info": {
   "codemirror_mode": {
    "name": "ipython",
    "version": 3
   },
   "file_extension": ".py",
   "mimetype": "text/x-python",
   "name": "python",
   "nbconvert_exporter": "python",
   "pygments_lexer": "ipython3",
   "version": "3.6.1"
  }
 },
 "nbformat": 4,
 "nbformat_minor": 2
}
