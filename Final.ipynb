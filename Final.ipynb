{
 "cells": [
  {
   "cell_type": "code",
   "execution_count": 1,
   "metadata": {},
   "outputs": [
    {
     "name": "stderr",
     "output_type": "stream",
     "text": [
      "/Library/Frameworks/Python.framework/Versions/3.6/lib/python3.6/importlib/_bootstrap.py:205: RuntimeWarning: numpy.dtype size changed, may indicate binary incompatibility. Expected 96, got 88\n",
      "  return f(*args, **kwds)\n",
      "/Library/Frameworks/Python.framework/Versions/3.6/lib/python3.6/importlib/_bootstrap.py:205: RuntimeWarning: numpy.dtype size changed, may indicate binary incompatibility. Expected 96, got 88\n",
      "  return f(*args, **kwds)\n"
     ]
    }
   ],
   "source": [
    "import nltk\n",
    "import json\n",
    "from nltk.stem import WordNetLemmatizer\n",
    "from nltk.corpus import stopwords\n",
    "from collections import Counter\n",
    "\n",
    "import pandas as pd\n",
    "import numpy as np\n",
    "from sklearn import preprocessing\n",
    "from sklearn import metrics\n",
    "from sklearn.feature_extraction.text import CountVectorizer\n",
    "from sklearn.metrics import jaccard_similarity_score\n",
    "from scipy import spatial\n",
    "import matplotlib.pyplot as plt \n",
    "plt.rc(\"font\", size=14)\n",
    "from sklearn.linear_model import LogisticRegression\n",
    "from sklearn.model_selection import train_test_split\n",
    "from sklearn.metrics.pairwise import cosine_similarity\n",
    "import seaborn as sns\n",
    "%matplotlib inline\n",
    "\n",
    "import pickle\n",
    "import string\n",
    "from tqdm import tqdm, tqdm_notebook\n",
    "import time\n",
    "\n",
    "\n",
    "# Temp\n",
    "\n",
    "from sklearn.svm import SVC\n",
    "from sklearn.tree import DecisionTreeClassifier\n",
    "from sklearn.neural_network import MLPClassifier\n",
    "from sklearn.naive_bayes import GaussianNB"
   ]
  },
  {
   "cell_type": "markdown",
   "metadata": {},
   "source": [
    "## Functions"
   ]
  },
  {
   "cell_type": "code",
   "execution_count": 2,
   "metadata": {},
   "outputs": [],
   "source": [
    "def createCorpus(json_data, stopwords):\n",
    "    j = json_data\n",
    "    corpus = []\n",
    "    \n",
    "    for data in tqdm_notebook(j['data']):\n",
    "        for paragraph in data[\"paragraphs\"]:\n",
    "            context = paragraph[\"context\"]\n",
    "            corpus.append(context)\n",
    "            for q in paragraph[\"qas\"]:\n",
    "                question = q[\"question\"]\n",
    "                corpus.append(question)\n",
    "    return corpus"
   ]
  },
  {
   "cell_type": "code",
   "execution_count": 3,
   "metadata": {},
   "outputs": [],
   "source": [
    "def getPOS(corpus, progress = True):\n",
    "    pos_tag = []\n",
    "    c = tqdm_notebook(corpus) if progress else corpus\n",
    "    for sentence in c:\n",
    "        text = nltk.word_tokenize(sentence)\n",
    "        pos_tag = nltk.pos_tag(text)\n",
    "    return pos_tag"
   ]
  },
  {
   "cell_type": "code",
   "execution_count": 4,
   "metadata": {},
   "outputs": [
    {
     "data": {
      "application/vnd.jupyter.widget-view+json": {
       "model_id": "563727d8950d4dfd803e4864bf0950b8",
       "version_major": 2,
       "version_minor": 0
      },
      "text/plain": [
       "HBox(children=(IntProgress(value=0, max=1), HTML(value='')))"
      ]
     },
     "metadata": {},
     "output_type": "display_data"
    },
    {
     "name": "stdout",
     "output_type": "stream",
     "text": [
      "\n"
     ]
    },
    {
     "data": {
      "application/vnd.jupyter.widget-view+json": {
       "model_id": "a8a4fb1c0c304e9fa52366ab4e65ae8f",
       "version_major": 2,
       "version_minor": 0
      },
      "text/plain": [
       "HBox(children=(IntProgress(value=0, max=3), HTML(value='')))"
      ]
     },
     "metadata": {},
     "output_type": "display_data"
    },
    {
     "name": "stdout",
     "output_type": "stream",
     "text": [
      "\n"
     ]
    },
    {
     "data": {
      "text/plain": [
       "{'Something': 'v', 'is': 'v', 'weird': None}"
      ]
     },
     "execution_count": 4,
     "metadata": {},
     "output_type": "execute_result"
    }
   ],
   "source": [
    "def makePOSDict(corpus):\n",
    "    pos = getPOS(corpus)\n",
    "    pos_dict = {}\n",
    "    for (word, tag) in tqdm_notebook(pos):\n",
    "        wtag = tag[0].lower()\n",
    "        wtag = wtag if wtag in [\"a\",\"r\",\"n\",\"v\"] else None\n",
    "        pos_dict[word] = wtag\n",
    "        \n",
    "    return pos_dict\n",
    "\n",
    "makePOSDict([\"Something is weird\"])"
   ]
  },
  {
   "cell_type": "code",
   "execution_count": 5,
   "metadata": {},
   "outputs": [],
   "source": [
    "def ourLemmatize(dictonary, corpus):\n",
    "    lemma = WordNetLemmatizer()\n",
    "    corp = []\n",
    "    for sentence in tqdm_notebook(corpus):\n",
    "        s = nltk.word_tokenize(sentence)\n",
    "        sent = []\n",
    "        for word in s:\n",
    "            if dictonary[word] != None:\n",
    "                nw = lemma.lemmatize(word, dictonary[word])\n",
    "                sent.append(nw)\n",
    "            else:\n",
    "                sent.append(word)\n",
    "#         corp.append(\" \".join(sent))\n",
    "        corp.append(sent)\n",
    "    return corp"
   ]
  },
  {
   "cell_type": "code",
   "execution_count": 6,
   "metadata": {},
   "outputs": [],
   "source": [
    "# Make and load pickles\n",
    "def makePickle(filename, data_file):\n",
    "    pickle_out = open(\"pickles/\" + filename + \".pickle\",\"wb\")\n",
    "    pickle.dump(data_file, pickle_out)\n",
    "    pickle_out.close()\n",
    "    \n",
    "def loadPickle(filename):\n",
    "    pickle_in = open(\"pickles/\" + filename + \".pickle\",\"rb\")\n",
    "    return pickle.load(pickle_in)"
   ]
  },
  {
   "cell_type": "code",
   "execution_count": 7,
   "metadata": {},
   "outputs": [],
   "source": [
    "def makeFeatures(features, pred = None):\n",
    "    # dict to array\n",
    "    y = []\n",
    "    xs = []\n",
    "    for k,v in features[0].items():\n",
    "        x = [feature[k] for feature in features]\n",
    "        \n",
    "        xs.append(x)\n",
    "        if pred != None:\n",
    "            y.append(pred[k])\n",
    "        else:\n",
    "            y.append(k)\n",
    "        \n",
    "    Y = np.array(y)\n",
    "    X = np.array(xs)\n",
    "    \n",
    "    return X,Y"
   ]
  },
  {
   "cell_type": "code",
   "execution_count": 8,
   "metadata": {},
   "outputs": [],
   "source": [
    "def oneHotEncode(columnId, feature_data):\n",
    "    # Select categorical data\n",
    "    df = pd.DataFrame(data=feature_data)\n",
    "    newdf = df.iloc[:,columnId:columnId+1]\n",
    "    \n",
    "    le = preprocessing.LabelEncoder()\n",
    "    enc = preprocessing.OneHotEncoder()\n",
    "    \n",
    "    X_1 = df.drop([columnId],1)\n",
    "\n",
    "    X_2 = newdf.apply(le.fit_transform)\n",
    "    enc.fit(X_2)\n",
    "    onehotlabels = enc.transform(X_2).toarray()\n",
    "    X_2 =  pd.DataFrame(data=onehotlabels)\n",
    "    \n",
    "    feature_data = pd.concat([X_1, X_2], axis=1, sort=False)\n",
    "    return feature_data.values"
   ]
  },
  {
   "cell_type": "code",
   "execution_count": 9,
   "metadata": {},
   "outputs": [],
   "source": [
    "def saveToFile(preds, keys, filename):\n",
    "    predictions = {}\n",
    "    for i in range(len(keys)):\n",
    "        key = keys[i]\n",
    "        predictions[key] = preds[i]\n",
    "    \n",
    "    with open(filename + '.csv', 'w') as f:\n",
    "        f.write(\"Id,Category\\n\")\n",
    "        for k,v in predictions.items():\n",
    "            f.write(\"%s,%s\\n\"%(k,v))\n",
    "\n",
    "        f.close()"
   ]
  },
  {
   "cell_type": "markdown",
   "metadata": {},
   "source": [
    "## Load data"
   ]
  },
  {
   "cell_type": "code",
   "execution_count": 13,
   "metadata": {},
   "outputs": [],
   "source": [
    "with open('training.json') as f:\n",
    "    json_data = json.load(f)\n",
    "with open('development.json') as f:\n",
    "    json_data_validate = json.load(f)"
   ]
  },
  {
   "cell_type": "code",
   "execution_count": 65,
   "metadata": {},
   "outputs": [
    {
     "data": {
      "text/plain": [
       "'What was the first album Beyoncé released as a solo artist?'"
      ]
     },
     "execution_count": 65,
     "metadata": {},
     "output_type": "execute_result"
    }
   ],
   "source": [
    "try:\n",
    "    corpus = loadPickle('corpus')\n",
    "except:\n",
    "    stop_words = set(stopwords.words('english'))\n",
    "    stop_words.union(set(string.punctuation))\n",
    "    corpus = createCorpus(json_data, stop_words)\n",
    "    makePickle('corpus', corpus)\n",
    "\n",
    "corpus[1]"
   ]
  },
  {
   "cell_type": "code",
   "execution_count": 66,
   "metadata": {},
   "outputs": [
    {
     "data": {
      "text/plain": [
       "'When did Beyoncé release Dangerously in Love?'"
      ]
     },
     "execution_count": 66,
     "metadata": {},
     "output_type": "execute_result"
    }
   ],
   "source": [
    "try:\n",
    "    corpus_val = loadPickle('corpus_val')\n",
    "except:\n",
    "    stop_words = set(stopwords.words('english'))\n",
    "    stop_words.union(set(string.punctuation))\n",
    "    corpus_val = createCorpus(json_data_validate, stop_words)\n",
    "    makePickle('corpus_val', corpus_val)\n",
    "\n",
    "corpus_val[1]"
   ]
  },
  {
   "cell_type": "markdown",
   "metadata": {},
   "source": [
    "### POS Dict and Lemmatized corpus"
   ]
  },
  {
   "cell_type": "code",
   "execution_count": 35,
   "metadata": {},
   "outputs": [
    {
     "data": {
      "text/plain": [
       "('Beyoncé', 'n')"
      ]
     },
     "execution_count": 35,
     "metadata": {},
     "output_type": "execute_result"
    }
   ],
   "source": [
    "try:\n",
    "    pos_dict = loadPickle('pos_dic')\n",
    "except:\n",
    "    pos_dict = makePOSDict(corpus)\n",
    "    makePickle('pos_dic', pos_dict)\n",
    "    \n",
    "next(iter(pos_dict.keys())), next(iter(pos_dict.values()))"
   ]
  },
  {
   "cell_type": "code",
   "execution_count": 38,
   "metadata": {},
   "outputs": [
    {
     "data": {
      "text/plain": [
       "['What', 'be', 'the', 'first']"
      ]
     },
     "execution_count": 38,
     "metadata": {},
     "output_type": "execute_result"
    }
   ],
   "source": [
    "try:\n",
    "    corpus_lemmatize = loadPickle('corpus_lemmatize')\n",
    "except:\n",
    "    corpus_lemmatize = ourLemmatize(pos_dict, corpus)\n",
    "    makePickle('corpus_lemmatize', corpus_lemmatize)\n",
    "\n",
    "corpus_lemmatize[1][:4]"
   ]
  },
  {
   "cell_type": "code",
   "execution_count": 69,
   "metadata": {},
   "outputs": [
    {
     "data": {
      "text/plain": [
       "('Beyoncé', 'n')"
      ]
     },
     "execution_count": 69,
     "metadata": {},
     "output_type": "execute_result"
    }
   ],
   "source": [
    "try:\n",
    "    pos_dic_val = loadPickle('pos_dic_val')\n",
    "except:\n",
    "    pos_dic_val = makePOSDict(corpus_val)\n",
    "    makePickle('pos_dic_val', pos_dic_val)\n",
    "    \n",
    "next(iter(pos_dic_val.keys())), next(iter(pos_dic_val.values()))"
   ]
  },
  {
   "cell_type": "code",
   "execution_count": 70,
   "metadata": {},
   "outputs": [
    {
     "data": {
      "text/plain": [
       "['When', 'do', 'Beyoncé', 'release']"
      ]
     },
     "execution_count": 70,
     "metadata": {},
     "output_type": "execute_result"
    }
   ],
   "source": [
    "try:\n",
    "    corpus_lemmatize_val = loadPickle('corpus_lemmatize_val')\n",
    "except:\n",
    "    corpus_lemmatize_val = ourLemmatize(pos_dic_val, corpus_val)\n",
    "    makePickle('corpus_lemmatize_val', corpus_lemmatize_val)\n",
    "    \n",
    "corpus_lemmatize_val[1][:4]"
   ]
  },
  {
   "cell_type": "markdown",
   "metadata": {},
   "source": [
    "## Predictions"
   ]
  },
  {
   "cell_type": "code",
   "execution_count": 14,
   "metadata": {},
   "outputs": [],
   "source": [
    "def getPredictions(json_data):\n",
    "    pred = {}\n",
    "    for obj in tqdm_notebook(json_data[\"data\"]):\n",
    "        for para in obj[\"paragraphs\"]:\n",
    "            for q in para[\"qas\"]:\n",
    "                question_id = q[\"id\"]\n",
    "                pred[question_id] = 0 if q[\"is_impossible\"] else 1\n",
    "                \n",
    "    return pred"
   ]
  },
  {
   "cell_type": "code",
   "execution_count": 15,
   "metadata": {},
   "outputs": [
    {
     "data": {
      "application/vnd.jupyter.widget-view+json": {
       "model_id": "7282e230ce364f75a0a8f33028685026",
       "version_major": 2,
       "version_minor": 0
      },
      "text/plain": [
       "HBox(children=(IntProgress(value=0, max=442), HTML(value='')))"
      ]
     },
     "metadata": {},
     "output_type": "display_data"
    },
    {
     "name": "stdout",
     "output_type": "stream",
     "text": [
      "\n"
     ]
    },
    {
     "data": {
      "application/vnd.jupyter.widget-view+json": {
       "model_id": "e0c764ebe2ec4a099ac99eb8d969fdd7",
       "version_major": 2,
       "version_minor": 0
      },
      "text/plain": [
       "HBox(children=(IntProgress(value=0, max=442), HTML(value='')))"
      ]
     },
     "metadata": {},
     "output_type": "display_data"
    },
    {
     "name": "stdout",
     "output_type": "stream",
     "text": [
      "\n"
     ]
    }
   ],
   "source": [
    "pred =  getPredictions(json_data)\n",
    "pred_validate = getPredictions(json_data_validate)"
   ]
  },
  {
   "cell_type": "markdown",
   "metadata": {},
   "source": [
    "## Jaccard Sentence"
   ]
  },
  {
   "cell_type": "code",
   "execution_count": 22,
   "metadata": {},
   "outputs": [
    {
     "data": {
      "text/plain": [
       "0.6842105263157895"
      ]
     },
     "execution_count": 22,
     "metadata": {},
     "output_type": "execute_result"
    }
   ],
   "source": [
    "# Jaccard Similarity function\n",
    "def DistJaccard(str1, str2):\n",
    "    str1 = set(str1)\n",
    "    str2 = set(str2)\n",
    "    jd = nltk.jaccard_distance(str1, str2)\n",
    "#     manual = float(len(str1 & str2)) / len(str1 | str2)\n",
    "    return jd\n",
    "\n",
    "DistJaccard(\"something stuped okay lol\",\"Okay cool lol\")"
   ]
  },
  {
   "cell_type": "code",
   "execution_count": 23,
   "metadata": {},
   "outputs": [],
   "source": [
    "def getJaccard(json_data, corpus):\n",
    "    jac_similarity = {}\n",
    "    counter = 0\n",
    "    for obj in tqdm_notebook(json_data[\"data\"]):\n",
    "        for para in obj[\"paragraphs\"]:\n",
    "            context = corpus[counter]\n",
    "\n",
    "            counter += 1\n",
    "            for q in para[\"qas\"]:\n",
    "                question_id = q[\"id\"]\n",
    "                question = corpus[counter]\n",
    "                \n",
    "                sim = np.array([DistJaccard(sent,question) for sent in context.split(\".\")])\n",
    "                jac_similarity[question_id] = np.mean(sim)\n",
    "                \n",
    "                counter += 1\n",
    "                \n",
    "    return jac_similarity"
   ]
  },
  {
   "cell_type": "code",
   "execution_count": 75,
   "metadata": {},
   "outputs": [
    {
     "data": {
      "application/vnd.jupyter.widget-view+json": {
       "model_id": "2276edf31f204f0ab5621341cc9dc68c",
       "version_major": 2,
       "version_minor": 0
      },
      "text/plain": [
       "HBox(children=(IntProgress(value=0, max=442), HTML(value='')))"
      ]
     },
     "metadata": {},
     "output_type": "display_data"
    },
    {
     "name": "stdout",
     "output_type": "stream",
     "text": [
      "\n"
     ]
    }
   ],
   "source": [
    "jac_similarity = getJaccard(json_data, corpus)"
   ]
  },
  {
   "cell_type": "code",
   "execution_count": 76,
   "metadata": {},
   "outputs": [
    {
     "data": {
      "application/vnd.jupyter.widget-view+json": {
       "model_id": "8ed01497681a43f2a5cc52bf7d181741",
       "version_major": 2,
       "version_minor": 0
      },
      "text/plain": [
       "HBox(children=(IntProgress(value=0, max=442), HTML(value='')))"
      ]
     },
     "metadata": {},
     "output_type": "display_data"
    },
    {
     "name": "stdout",
     "output_type": "stream",
     "text": [
      "\n"
     ]
    }
   ],
   "source": [
    "jac_similarity_val = getJaccard(json_data_validate, corpus_val)"
   ]
  },
  {
   "cell_type": "markdown",
   "metadata": {},
   "source": [
    "## Cosine Sentence"
   ]
  },
  {
   "cell_type": "code",
   "execution_count": 24,
   "metadata": {},
   "outputs": [],
   "source": [
    "def documentVector(doc, WEModel):\n",
    "    # remove out-of-vocabulary words\n",
    "    doc = [word for word in doc if word in WEModel.vocab]\n",
    "    try:\n",
    "        return np.mean(WEModel[doc], axis=0)\n",
    "    except:\n",
    "        return np.zeros(300)"
   ]
  },
  {
   "cell_type": "code",
   "execution_count": 25,
   "metadata": {},
   "outputs": [],
   "source": [
    "def getCosine(WEModel, json_data, corp):\n",
    "    cos_similarity = {}\n",
    "    counter = 0\n",
    "    for obj in tqdm_notebook(json_data[\"data\"]):\n",
    "        for para in obj[\"paragraphs\"]:\n",
    "\n",
    "            context = corp[counter]\n",
    "            context_vector = documentVector(context, WEModel)\n",
    "\n",
    "            counter += 1\n",
    "            for q in para[\"qas\"]:\n",
    "                question_id = q[\"id\"]\n",
    "                question_vector = documentVector(corp[counter], WEModel)\n",
    "                \n",
    "                sim = np.array([cosine_similarity(np.array([documentVector(s, WEModel), question_vector]))[0][1] for s in context.split(\".\")])\n",
    "                # cos_similarity[question_id] = cosine_similarity(np.array([context_vector, question_vector]))[0][1]\n",
    "                cos_similarity[question_id] = np.mean(sim)\n",
    "                \n",
    "                counter += 1\n",
    "                \n",
    "    return cos_similarity"
   ]
  },
  {
   "cell_type": "code",
   "execution_count": 26,
   "metadata": {},
   "outputs": [],
   "source": [
    "from gensim.models import KeyedVectors\n",
    "word_2vec_cached = KeyedVectors.load_word2vec_format(\"WE/GoogleNews-vectors-negative300.bin\", binary=True)"
   ]
  },
  {
   "cell_type": "code",
   "execution_count": null,
   "metadata": {},
   "outputs": [
    {
     "data": {
      "application/vnd.jupyter.widget-view+json": {
       "model_id": "3a3633fdc1804907875ae07e5a680a63",
       "version_major": 2,
       "version_minor": 0
      },
      "text/plain": [
       "HBox(children=(IntProgress(value=0, max=442), HTML(value='')))"
      ]
     },
     "metadata": {},
     "output_type": "display_data"
    }
   ],
   "source": [
    "cos_similarity = getCosine(word_2vec_cached, json_data, corpus)"
   ]
  },
  {
   "cell_type": "code",
   "execution_count": null,
   "metadata": {},
   "outputs": [],
   "source": [
    "cos_similarity_val = getCosine(word_2vec_cached, json_data_validate, corpus_val)"
   ]
  },
  {
   "cell_type": "markdown",
   "metadata": {},
   "source": [
    "## Question Type"
   ]
  },
  {
   "cell_type": "code",
   "execution_count": 27,
   "metadata": {},
   "outputs": [
    {
     "data": {
      "text/plain": [
       "20"
      ]
     },
     "execution_count": 27,
     "metadata": {},
     "output_type": "execute_result"
    }
   ],
   "source": [
    "question_words = [\"who\", \"what\", \"when\", \"where\", \"why\", \"how\", \"which\", \"whose\", \"whom\", \"is\", \"was\", \"are\", \"does\", \"did\", \"were\", \"can\", \"do\", \"has\", \"had\", \"name\"]\n",
    "len(question_words)"
   ]
  },
  {
   "cell_type": "code",
   "execution_count": 28,
   "metadata": {},
   "outputs": [
    {
     "data": {
      "text/plain": [
       "'when'"
      ]
     },
     "execution_count": 28,
     "metadata": {},
     "output_type": "execute_result"
    }
   ],
   "source": [
    "def getQuestionWord(question, question_words):\n",
    "    question_array = [question]\n",
    "    question_pos = getPOS(question_array, False)\n",
    "    q_word = \"<unk>\"\n",
    "\n",
    "    for (w,t) in question_pos:\n",
    "        word = w.lower()\n",
    "        if word in question_words:\n",
    "            q_word = word\n",
    "            break\n",
    "    \n",
    "    return q_word\n",
    "\n",
    "getQuestionWord(\"When did Beyoncé release Dangerously in Love?\", question_words)"
   ]
  },
  {
   "cell_type": "code",
   "execution_count": 29,
   "metadata": {},
   "outputs": [],
   "source": [
    "def getQuestionWords(json_data, corp, question_words):\n",
    "    words = {}\n",
    "    counter = 0\n",
    "    for obj in tqdm_notebook(json_data[\"data\"]):\n",
    "        for para in obj[\"paragraphs\"]:\n",
    "\n",
    "            counter += 1\n",
    "            for q in para[\"qas\"]:\n",
    "                question_id = q[\"id\"]\n",
    "                words[question_id] = getQuestionWord(corp[counter], question_words)\n",
    "                \n",
    "                counter += 1\n",
    "                \n",
    "    return words"
   ]
  },
  {
   "cell_type": "code",
   "execution_count": null,
   "metadata": {},
   "outputs": [],
   "source": [
    "questionWords = getQuestionWords(json_data, corpus, question_words)"
   ]
  },
  {
   "cell_type": "code",
   "execution_count": null,
   "metadata": {},
   "outputs": [],
   "source": [
    "questionWords_val = getQuestionWords(json_data_validate, corpus_val, question_words)"
   ]
  },
  {
   "cell_type": "markdown",
   "metadata": {},
   "source": [
    "## NER"
   ]
  },
  {
   "cell_type": "code",
   "execution_count": 30,
   "metadata": {},
   "outputs": [],
   "source": [
    "whoTags = [\"B-PERSON\", \"I-PERSON\"]\n",
    "whatTags = [\"B-GPE\", \"I-GPE\", \"B-LOCATION\", \"I_LOCATION\"]\n",
    "whenTags = [\"B-DATE\", \"I-DATE\", \"B-TIME\", \"I-TIME\"]\n",
    "otherTags = [\"B-PERSON\", \"I-PERSON\", \"B-GPE\", \"I-GPE\", \"B-LOCATION\", \"I-LOCATION\", \"B-DATE\", \"I-DATE\", \"B-TIME\", \"I-TIME\"]"
   ]
  },
  {
   "cell_type": "code",
   "execution_count": 31,
   "metadata": {},
   "outputs": [],
   "source": [
    "# maps question word to NER\n",
    "qwordTagMap = {}\n",
    "for question_word in question_words:\n",
    "    qwordTagMap[question_word] = otherTags\n",
    "    qwordTagMap[\"who\"] = whoTags\n",
    "    qwordTagMap[\"what\"] = whatTags\n",
    "    qwordTagMap[\"when\"] = whenTags\n",
    "    qwordTagMap[\"<unk>\"] = otherTags"
   ]
  },
  {
   "cell_type": "code",
   "execution_count": 32,
   "metadata": {},
   "outputs": [
    {
     "data": {
      "text/plain": [
       "0"
      ]
     },
     "execution_count": 32,
     "metadata": {},
     "output_type": "execute_result"
    }
   ],
   "source": [
    "def getNERCount(question_words, q_word, question, context, qwordTagMap):\n",
    "    '''\n",
    "    for the question word, does the corresponding NER tag exist in the context.\n",
    "    For every NER tag exists, see if that word is in the question\n",
    "    if yes dont count, else count\n",
    "    '''\n",
    "    qwordTags = qwordTagMap[q_word]\n",
    "    num_of_tags_in_context = 0\n",
    "    \n",
    "    context_words = nltk.word_tokenize(context)\n",
    "    context_chunks = nltk.chunk.util.tree2conlltags(nltk.ne_chunk(nltk.pos_tag(context_words)))\n",
    "\n",
    "    if (len(context_chunks) > 0):\n",
    "        for context_chunk in context_chunks:\n",
    "            if (context_chunk[2] in qwordTags and context_chunk[0] not in question):\n",
    "                num_of_tags_in_context += 1\n",
    "\n",
    "    return num_of_tags_in_context\n",
    "\n",
    "getNERCount(question_words,\"when\", \"When was the first album Beyoncé released as a solo artist?\", \"Beyoncé Giselle Knowles-Carter (/biːˈjɒnseɪ/ bee-YON-say) (born September 4, 1981) is an American singer, songwriter, record producer and actress\", qwordTagMap)"
   ]
  },
  {
   "cell_type": "code",
   "execution_count": 33,
   "metadata": {},
   "outputs": [],
   "source": [
    "def getNERCounts(json_data, corp, questionKey, question_words, qwordTagMap):\n",
    "    counts = {}\n",
    "    counter = 0\n",
    "    for obj in tqdm(json_data[\"data\"]):\n",
    "        for para in obj[\"paragraphs\"]:\n",
    "            \n",
    "            context = corp[counter]\n",
    "            counter += 1\n",
    "            for q in para[\"qas\"]:\n",
    "                question_id = q[\"id\"]\n",
    "                counts[question_id] = getNERCount(question_words, questionKey[question_id], corp[counter], context, qwordTagMap)\n",
    "                \n",
    "                counter += 1\n",
    "                \n",
    "    return counts"
   ]
  },
  {
   "cell_type": "code",
   "execution_count": null,
   "metadata": {},
   "outputs": [],
   "source": [
    "try:\n",
    "    nerCounts = loadPickle('nerCounts')\n",
    "except:\n",
    "    nerCounts = getNERCounts(json_data, corpus, questionWords, question_words, qwordTagMap)"
   ]
  },
  {
   "cell_type": "code",
   "execution_count": null,
   "metadata": {},
   "outputs": [],
   "source": [
    "try:\n",
    "    nerCountsVal = loadPickle('nerCounts_val')\n",
    "except:\n",
    "    nerCountsVal = getNERCounts(json_data_validate, corpus_val, questionWords_val, question_words, qwordTagMap)"
   ]
  },
  {
   "cell_type": "markdown",
   "metadata": {},
   "source": [
    "## Verb Nouns"
   ]
  },
  {
   "cell_type": "code",
   "execution_count": 36,
   "metadata": {},
   "outputs": [
    {
     "data": {
      "text/plain": [
       "(['do', 'grow'], ['city', 'state', 'Beyonce'])"
      ]
     },
     "execution_count": 36,
     "metadata": {},
     "output_type": "execute_result"
    }
   ],
   "source": [
    "def getQuestionVerbsNouns(question_array, pos_dict):\n",
    "    question_pos = [(w, pos_dict[W]) for (w, W) in question_array]\n",
    "    q_verbs = []\n",
    "    q_nouns = []\n",
    "    \n",
    "    for (w,t) in question_pos:\n",
    "        if t == \"v\":\n",
    "            q_verbs.append(w)\n",
    "        elif t == \"n\":\n",
    "            q_nouns.append(w)\n",
    "    \n",
    "    return q_verbs, q_nouns\n",
    "\n",
    "arr = 'In what city and state do Beyonce grow up ?'.split(\" \")\n",
    "arr = zip(arr,arr)\n",
    "getQuestionVerbsNouns(arr, pos_dict)"
   ]
  },
  {
   "cell_type": "code",
   "execution_count": 39,
   "metadata": {},
   "outputs": [
    {
     "data": {
      "text/plain": [
       "(1, 3)"
      ]
     },
     "execution_count": 39,
     "metadata": {},
     "output_type": "execute_result"
    }
   ],
   "source": [
    "def getVerbNounCount(question_array, context_set, pos_dict):\n",
    "    q_verbs, q_nouns = getQuestionVerbsNouns(question_array, pos_dict)\n",
    "    return len(context_set & set(q_verbs)), len(context_set & set(q_nouns))\n",
    "\n",
    "getVerbNounCount(zip(corpus_lemmatize[1],corpus_lemmatize[1]), set(corpus_lemmatize[0]), pos_dict)"
   ]
  },
  {
   "cell_type": "code",
   "execution_count": 40,
   "metadata": {},
   "outputs": [],
   "source": [
    "def getVerbNounCounts(json_data, corp, corp_lemmatized, pos_dict):\n",
    "    verbCounts = {}\n",
    "    nounCounts = {}\n",
    "    counter = 0\n",
    "    for obj in tqdm_notebook(json_data[\"data\"]):\n",
    "        for para in obj[\"paragraphs\"]:\n",
    "            \n",
    "            context_array = corp_lemmatized[counter]\n",
    "            context_set = set(context_array)\n",
    "            counter += 1\n",
    "            for q in para[\"qas\"]:\n",
    "                question_id = q[\"id\"]\n",
    "                question_lem_array = corp_lemmatized[counter]\n",
    "                question_array = nltk.word_tokenize(corp[counter])\n",
    "                arr = zip(question_lem_array, question_array)\n",
    "                verbCounts[question_id], nounCounts[question_id] = getVerbNounCount(arr, context_set, pos_dict)\n",
    "                \n",
    "                counter += 1\n",
    "                \n",
    "    return verbCounts, nounCounts"
   ]
  },
  {
   "cell_type": "code",
   "execution_count": null,
   "metadata": {},
   "outputs": [],
   "source": [
    "verbCounts,nounCounts  = getVerbNounCounts(json_data, corpus, corpus_lemmatize, pos_dict)"
   ]
  },
  {
   "cell_type": "code",
   "execution_count": null,
   "metadata": {},
   "outputs": [],
   "source": [
    "verbCounts_val,nounCounts_val  = getVerbNounCounts(json_data_validate, corpus_val, corpus_lemmatize_val, pos_dic_val)"
   ]
  },
  {
   "cell_type": "markdown",
   "metadata": {},
   "source": [
    "## Word Count"
   ]
  },
  {
   "cell_type": "code",
   "execution_count": 41,
   "metadata": {},
   "outputs": [
    {
     "data": {
      "text/plain": [
       "['When', 'was', 'first', 'album', 'Beyoncé', 'released', 'solo', 'artist']"
      ]
     },
     "execution_count": 41,
     "metadata": {},
     "output_type": "execute_result"
    }
   ],
   "source": [
    "def getSimpleQuestion(question):\n",
    "    text = nltk.word_tokenize(question)\n",
    "    words = nltk.pos_tag(text)\n",
    "    less_words = [wt for (wt, tag) in words if tag not in [\"CC\",\"DT\",\"EX\",\"IN\",\"LS\",\"POS\",\"TO\",\".\",\"\\\\\",\",\",\":\",\"(\",\")\"]]\n",
    "    return less_words\n",
    "\n",
    "getSimpleQuestion(\"When was the first album Beyoncé released as a solo artist?\")"
   ]
  },
  {
   "cell_type": "code",
   "execution_count": 42,
   "metadata": {},
   "outputs": [
    {
     "data": {
      "text/plain": [
       "Counter({'When': 2, 'was': 1})"
      ]
     },
     "execution_count": 42,
     "metadata": {},
     "output_type": "execute_result"
    }
   ],
   "source": [
    "def countWordsInParagraph(context):\n",
    "    wordList = nltk.word_tokenize(context)\n",
    "    counts = Counter(wordList)\n",
    "    return counts\n",
    "\n",
    "countWordsInParagraph(\"When When was\")"
   ]
  },
  {
   "cell_type": "code",
   "execution_count": 43,
   "metadata": {},
   "outputs": [],
   "source": [
    "def getSimilarWordCount(json_data, corp):\n",
    "    counter = 0\n",
    "    predictions = {}\n",
    "    for obj in tqdm_notebook(json_data[\"data\"]):\n",
    "        for para in obj[\"paragraphs\"]:\n",
    "            \n",
    "            context = corp[counter]\n",
    "            dic = countWordsInParagraph(context)\n",
    "            counter += 1\n",
    "            for q in para[\"qas\"]:\n",
    "                question_id = q[\"id\"]\n",
    "                question = corpus[counter]\n",
    "                new_question = getSimpleQuestion(question)\n",
    "                total = 0\n",
    "                for word in new_question:\n",
    "                    if word in dic:\n",
    "                        total+= dic[word]\n",
    "                        \n",
    "                predictions[question_id] = total\n",
    "                \n",
    "                counter += 1\n",
    "                \n",
    "    return predictions"
   ]
  },
  {
   "cell_type": "code",
   "execution_count": null,
   "metadata": {},
   "outputs": [],
   "source": [
    "similarWords = getSimilarWordCount(json_data, corpus)"
   ]
  },
  {
   "cell_type": "code",
   "execution_count": null,
   "metadata": {},
   "outputs": [],
   "source": [
    "similarWords_val = getSimilarWordCount(json_data_validate, corpus_val)"
   ]
  },
  {
   "cell_type": "markdown",
   "metadata": {},
   "source": [
    "## Test Feature"
   ]
  },
  {
   "cell_type": "code",
   "execution_count": null,
   "metadata": {},
   "outputs": [],
   "source": [
    "feature = similarWords\n",
    "prediction = pred\n",
    "\n",
    "# dict to array\n",
    "y = []\n",
    "x = []\n",
    "for k,v in feature.items():\n",
    "    x.append(v)\n",
    "    y.append(prediction[k])\n",
    "    \n",
    "xy = np.array([x,y])\n",
    "data = pd.DataFrame(data=np.transpose(xy))\n",
    "data.head()\n",
    "data.plot(kind='scatter', x=1, y=0)\n",
    "plt.ylabel('Feature score')\n",
    "plt.xlabel('Predicted label')"
   ]
  },
  {
   "cell_type": "markdown",
   "metadata": {},
   "source": [
    "## Make Features"
   ]
  },
  {
   "cell_type": "code",
   "execution_count": 44,
   "metadata": {},
   "outputs": [],
   "source": [
    "try:\n",
    "    features = loadPickle(\"features\")\n",
    "except:\n",
    "    features = [jac_similarity, cos_similarity, nerCounts, nounCounts, verbCounts, similarWords, questionWords]\n",
    "    \n",
    "X_train,y_train = makeFeatures(features, pred)"
   ]
  },
  {
   "cell_type": "code",
   "execution_count": 45,
   "metadata": {},
   "outputs": [],
   "source": [
    "try:\n",
    "    features = loadPickle(\"features_val\")\n",
    "except:\n",
    "    features = [jac_similarity_val, cos_similarity_val, nerCountsVal, nounCounts_val, verbCounts_val, similarWords_val, questionWords_val]\n",
    "\n",
    "X_test,y_test = makeFeatures(features, pred_validate)"
   ]
  },
  {
   "cell_type": "code",
   "execution_count": 46,
   "metadata": {},
   "outputs": [
    {
     "name": "stderr",
     "output_type": "stream",
     "text": [
      "/Library/Frameworks/Python.framework/Versions/3.6/lib/python3.6/site-packages/sklearn/preprocessing/_encoders.py:368: FutureWarning: The handling of integer data will change in version 0.22. Currently, the categories are determined based on the range [0, max(values)], while in the future they will be determined based on the unique values.\n",
      "If you want the future behaviour and silence this warning, you can specify \"categories='auto'\".\n",
      "In case you used a LabelEncoder before this OneHotEncoder to convert the categories to integers, then you can now use the OneHotEncoder directly.\n",
      "  warnings.warn(msg, FutureWarning)\n",
      "/Library/Frameworks/Python.framework/Versions/3.6/lib/python3.6/site-packages/sklearn/preprocessing/_encoders.py:368: FutureWarning: The handling of integer data will change in version 0.22. Currently, the categories are determined based on the range [0, max(values)], while in the future they will be determined based on the unique values.\n",
      "If you want the future behaviour and silence this warning, you can specify \"categories='auto'\".\n",
      "In case you used a LabelEncoder before this OneHotEncoder to convert the categories to integers, then you can now use the OneHotEncoder directly.\n",
      "  warnings.warn(msg, FutureWarning)\n"
     ]
    }
   ],
   "source": [
    "X_train = oneHotEncode(6, X_train)\n",
    "X_test = oneHotEncode(6, X_test)"
   ]
  },
  {
   "cell_type": "code",
   "execution_count": 47,
   "metadata": {},
   "outputs": [
    {
     "data": {
      "text/plain": [
       "(69596, 17400, 69596, 17400)"
      ]
     },
     "execution_count": 47,
     "metadata": {},
     "output_type": "execute_result"
    }
   ],
   "source": [
    "len(X_train),len(X_test),len(y_train),len(y_test)"
   ]
  },
  {
   "cell_type": "markdown",
   "metadata": {},
   "source": [
    "## Logistic Regression"
   ]
  },
  {
   "cell_type": "code",
   "execution_count": 48,
   "metadata": {},
   "outputs": [
    {
     "name": "stderr",
     "output_type": "stream",
     "text": [
      "/Library/Frameworks/Python.framework/Versions/3.6/lib/python3.6/site-packages/sklearn/utils/validation.py:595: DataConversionWarning: Data with input dtype object was converted to float64 by StandardScaler.\n",
      "  warnings.warn(msg, DataConversionWarning)\n",
      "/Library/Frameworks/Python.framework/Versions/3.6/lib/python3.6/site-packages/sklearn/utils/validation.py:595: DataConversionWarning: Data with input dtype object was converted to float64 by StandardScaler.\n",
      "  warnings.warn(msg, DataConversionWarning)\n",
      "/Library/Frameworks/Python.framework/Versions/3.6/lib/python3.6/site-packages/sklearn/utils/validation.py:595: DataConversionWarning: Data with input dtype object was converted to float64 by StandardScaler.\n",
      "  warnings.warn(msg, DataConversionWarning)\n",
      "/Library/Frameworks/Python.framework/Versions/3.6/lib/python3.6/site-packages/sklearn/linear_model/logistic.py:433: FutureWarning: Default solver will be changed to 'lbfgs' in 0.22. Specify a solver to silence this warning.\n",
      "  FutureWarning)\n"
     ]
    },
    {
     "data": {
      "text/plain": [
       "LogisticRegression(C=1.0, class_weight=None, dual=False, fit_intercept=True,\n",
       "          intercept_scaling=1, max_iter=100, multi_class='warn',\n",
       "          n_jobs=None, penalty='l2', random_state=None, solver='warn',\n",
       "          tol=0.0001, verbose=0, warm_start=False)"
      ]
     },
     "execution_count": 48,
     "metadata": {},
     "output_type": "execute_result"
    }
   ],
   "source": [
    "# all parameters not specified are set to their defaults\n",
    "scaler = preprocessing.StandardScaler()\n",
    "scaler.fit(X_train)\n",
    "X_train = scaler.transform(X_train) \n",
    "X_test = scaler.transform(X_test)  \n",
    "logisticRegr = LogisticRegression()\n",
    "logisticRegr.fit(X_train, y_train)"
   ]
  },
  {
   "cell_type": "code",
   "execution_count": 49,
   "metadata": {},
   "outputs": [],
   "source": [
    "y_pred=logisticRegr.predict(X_test)"
   ]
  },
  {
   "cell_type": "markdown",
   "metadata": {},
   "source": [
    "## Plot"
   ]
  },
  {
   "cell_type": "code",
   "execution_count": 50,
   "metadata": {},
   "outputs": [
    {
     "data": {
      "text/plain": [
       "Text(0.5, 257.44, 'Predicted label')"
      ]
     },
     "execution_count": 50,
     "metadata": {},
     "output_type": "execute_result"
    },
    {
     "data": {
      "image/png": "[encoded data removed]",
      "text/plain": [
       "<Figure size 432x288 with 2 Axes>"
      ]
     },
     "metadata": {},
     "output_type": "display_data"
    }
   ],
   "source": [
    "class_names=[0,1] # name  of classes\n",
    "fig, ax = plt.subplots()\n",
    "tick_marks = np.arange(len(class_names))\n",
    "plt.xticks(tick_marks, class_names)\n",
    "plt.yticks(tick_marks, class_names)\n",
    "# create heatmap\n",
    "cnf_matrix = metrics.confusion_matrix(y_test, y_pred)\n",
    "sns.heatmap(pd.DataFrame(cnf_matrix), annot=True, cmap=\"YlGnBu\" ,fmt='g')\n",
    "ax.xaxis.set_label_position(\"top\")\n",
    "plt.tight_layout()\n",
    "plt.title('Confusion matrix', y=1.1)\n",
    "plt.ylabel('Actual label')\n",
    "plt.xlabel('Predicted label')"
   ]
  },
  {
   "cell_type": "code",
   "execution_count": 51,
   "metadata": {},
   "outputs": [
    {
     "name": "stdout",
     "output_type": "stream",
     "text": [
      "Accuracy: 0.5328735632183909\n",
      "Precision: 0.5719677906391545\n",
      "Recall: 0.26126436781609197\n",
      "F-Score: 0.35868707590342436\n"
     ]
    }
   ],
   "source": [
    "print(\"Accuracy:\",metrics.accuracy_score(y_test, y_pred))\n",
    "print(\"Precision:\",metrics.precision_score(y_test, y_pred))\n",
    "print(\"Recall:\",metrics.recall_score(y_test, y_pred))\n",
    "print(\"F-Score:\",metrics.f1_score(y_test, y_pred))"
   ]
  },
  {
   "cell_type": "markdown",
   "metadata": {},
   "source": [
    "## Generate Test"
   ]
  },
  {
   "cell_type": "code",
   "execution_count": 52,
   "metadata": {},
   "outputs": [],
   "source": [
    "with open('test.json') as f:\n",
    "    test_json_data = json.load(f)"
   ]
  },
  {
   "cell_type": "code",
   "execution_count": 53,
   "metadata": {},
   "outputs": [],
   "source": [
    "try:\n",
    "    corpus_test = loadPickle('corpus_test')\n",
    "except:\n",
    "    stop_words = set(stopwords.words('english'))\n",
    "    stop_words.union(set(string.punctuation))\n",
    "    corpus_test = createCorpus(json_data, stop_words)\n",
    "    makePickle('corpus_test', corpus)"
   ]
  },
  {
   "cell_type": "code",
   "execution_count": 54,
   "metadata": {},
   "outputs": [
    {
     "data": {
      "text/plain": [
       "('Beyoncé', 'n')"
      ]
     },
     "execution_count": 54,
     "metadata": {},
     "output_type": "execute_result"
    }
   ],
   "source": [
    "try:\n",
    "    pos_dict_test = loadPickle('pos_dic_test')\n",
    "except:\n",
    "    pos_dict_test = makePOSDict(corpus_test)\n",
    "    makePickle('pos_dic_test', pos_dict_test)\n",
    "    \n",
    "next(iter(pos_dict_test.keys())), next(iter(pos_dict_test.values()))"
   ]
  },
  {
   "cell_type": "code",
   "execution_count": 55,
   "metadata": {},
   "outputs": [],
   "source": [
    "try:\n",
    "    corpus_lemmatize_test = loadPickle('corpus_lemmatize_test')\n",
    "except:\n",
    "    corpus_lemmatize_test = ourLemmatize(pos_dict_test, corpus_test)\n",
    "    makePickle('corpus_lemmatize_test', corpus_lemmatize_test)"
   ]
  },
  {
   "cell_type": "code",
   "execution_count": 56,
   "metadata": {},
   "outputs": [
    {
     "data": {
      "application/vnd.jupyter.widget-view+json": {
       "model_id": "fde879acca3d410aa95d0eb02dc1ea93",
       "version_major": 2,
       "version_minor": 0
      },
      "text/plain": [
       "HBox(children=(IntProgress(value=0, max=35), HTML(value='')))"
      ]
     },
     "metadata": {},
     "output_type": "display_data"
    },
    {
     "name": "stdout",
     "output_type": "stream",
     "text": [
      "\n"
     ]
    },
    {
     "data": {
      "application/vnd.jupyter.widget-view+json": {
       "model_id": "a8db41b114594e5db16c31ec704a28a3",
       "version_major": 2,
       "version_minor": 0
      },
      "text/plain": [
       "HBox(children=(IntProgress(value=0, max=35), HTML(value='')))"
      ]
     },
     "metadata": {},
     "output_type": "display_data"
    },
    {
     "name": "stdout",
     "output_type": "stream",
     "text": [
      "\n"
     ]
    },
    {
     "data": {
      "application/vnd.jupyter.widget-view+json": {
       "model_id": "73c555b4a0094105858afccef6b650be",
       "version_major": 2,
       "version_minor": 0
      },
      "text/plain": [
       "HBox(children=(IntProgress(value=0, max=35), HTML(value='')))"
      ]
     },
     "metadata": {},
     "output_type": "display_data"
    },
    {
     "name": "stdout",
     "output_type": "stream",
     "text": [
      "\n"
     ]
    },
    {
     "data": {
      "application/vnd.jupyter.widget-view+json": {
       "model_id": "891d31e2f14f42bd996421abcb4a51d6",
       "version_major": 2,
       "version_minor": 0
      },
      "text/plain": [
       "HBox(children=(IntProgress(value=0, max=35), HTML(value='')))"
      ]
     },
     "metadata": {},
     "output_type": "display_data"
    },
    {
     "name": "stdout",
     "output_type": "stream",
     "text": [
      "\n"
     ]
    },
    {
     "data": {
      "application/vnd.jupyter.widget-view+json": {
       "model_id": "89e41cb4629046b090d9e24313896ac2",
       "version_major": 2,
       "version_minor": 0
      },
      "text/plain": [
       "HBox(children=(IntProgress(value=0, max=35), HTML(value='')))"
      ]
     },
     "metadata": {},
     "output_type": "display_data"
    },
    {
     "name": "stdout",
     "output_type": "stream",
     "text": [
      "\n"
     ]
    },
    {
     "ename": "NameError",
     "evalue": "name 'corpus' is not defined",
     "output_type": "error",
     "traceback": [
      "\u001b[0;31m---------------------------------------------------------------------------\u001b[0m",
      "\u001b[0;31mNameError\u001b[0m                                 Traceback (most recent call last)",
      "\u001b[0;32m<ipython-input-56-cc53eb288868>\u001b[0m in \u001b[0;36m<module>\u001b[0;34m()\u001b[0m\n\u001b[1;32m      3\u001b[0m \u001b[0mtest_questionWords\u001b[0m  \u001b[0;34m=\u001b[0m \u001b[0mgetQuestionWords\u001b[0m\u001b[0;34m(\u001b[0m\u001b[0mtest_json_data\u001b[0m\u001b[0;34m,\u001b[0m \u001b[0mcorpus_test\u001b[0m\u001b[0;34m,\u001b[0m \u001b[0mquestion_words\u001b[0m\u001b[0;34m)\u001b[0m\u001b[0;34m\u001b[0m\u001b[0m\n\u001b[1;32m      4\u001b[0m \u001b[0mtest_verbCounts\u001b[0m\u001b[0;34m,\u001b[0m \u001b[0mtest_nounCounts\u001b[0m  \u001b[0;34m=\u001b[0m \u001b[0mgetVerbNounCounts\u001b[0m\u001b[0;34m(\u001b[0m\u001b[0mtest_json_data\u001b[0m\u001b[0;34m,\u001b[0m \u001b[0mcorpus_test\u001b[0m\u001b[0;34m,\u001b[0m \u001b[0mcorpus_lemmatize_test\u001b[0m\u001b[0;34m,\u001b[0m \u001b[0mpos_dict_test\u001b[0m\u001b[0;34m)\u001b[0m\u001b[0;34m\u001b[0m\u001b[0m\n\u001b[0;32m----> 5\u001b[0;31m \u001b[0mtest_similarWords\u001b[0m \u001b[0;34m=\u001b[0m \u001b[0mgetSimilarWordCount\u001b[0m\u001b[0;34m(\u001b[0m\u001b[0mtest_json_data\u001b[0m\u001b[0;34m,\u001b[0m \u001b[0mcorpus_test\u001b[0m\u001b[0;34m)\u001b[0m\u001b[0;34m\u001b[0m\u001b[0m\n\u001b[0m\u001b[1;32m      6\u001b[0m \u001b[0;34m\u001b[0m\u001b[0m\n\u001b[1;32m      7\u001b[0m \u001b[0;32mtry\u001b[0m\u001b[0;34m:\u001b[0m\u001b[0;34m\u001b[0m\u001b[0m\n",
      "\u001b[0;32m<ipython-input-43-3df647087afc>\u001b[0m in \u001b[0;36mgetSimilarWordCount\u001b[0;34m(json_data, corp)\u001b[0m\n\u001b[1;32m     10\u001b[0m             \u001b[0;32mfor\u001b[0m \u001b[0mq\u001b[0m \u001b[0;32min\u001b[0m \u001b[0mpara\u001b[0m\u001b[0;34m[\u001b[0m\u001b[0;34m\"qas\"\u001b[0m\u001b[0;34m]\u001b[0m\u001b[0;34m:\u001b[0m\u001b[0;34m\u001b[0m\u001b[0m\n\u001b[1;32m     11\u001b[0m                 \u001b[0mquestion_id\u001b[0m \u001b[0;34m=\u001b[0m \u001b[0mq\u001b[0m\u001b[0;34m[\u001b[0m\u001b[0;34m\"id\"\u001b[0m\u001b[0;34m]\u001b[0m\u001b[0;34m\u001b[0m\u001b[0m\n\u001b[0;32m---> 12\u001b[0;31m                 \u001b[0mquestion\u001b[0m \u001b[0;34m=\u001b[0m \u001b[0mcorpus\u001b[0m\u001b[0;34m[\u001b[0m\u001b[0mcounter\u001b[0m\u001b[0;34m]\u001b[0m\u001b[0;34m\u001b[0m\u001b[0m\n\u001b[0m\u001b[1;32m     13\u001b[0m                 \u001b[0mnew_question\u001b[0m \u001b[0;34m=\u001b[0m \u001b[0mgetSimpleQuestion\u001b[0m\u001b[0;34m(\u001b[0m\u001b[0mquestion\u001b[0m\u001b[0;34m)\u001b[0m\u001b[0;34m\u001b[0m\u001b[0m\n\u001b[1;32m     14\u001b[0m                 \u001b[0mtotal\u001b[0m \u001b[0;34m=\u001b[0m \u001b[0;36m0\u001b[0m\u001b[0;34m\u001b[0m\u001b[0m\n",
      "\u001b[0;31mNameError\u001b[0m: name 'corpus' is not defined"
     ]
    }
   ],
   "source": [
    "test_jac_similarity = getJaccard(test_json_data, corpus_test)\n",
    "test_cos_similarity = getCosine(word_2vec_cached, test_json_data, corpus_test)\n",
    "test_questionWords  = getQuestionWords(test_json_data, corpus_test, question_words)\n",
    "test_verbCounts, test_nounCounts  = getVerbNounCounts(test_json_data, corpus_test, corpus_lemmatize_test, pos_dict_test)\n",
    "test_similarWords = getSimilarWordCount(test_json_data, corpus_test)\n",
    "\n",
    "try:\n",
    "    test_nerCounts = loadPickle('test_nerCounts')\n",
    "except:\n",
    "    test_nerCounts = getNERCounts(test_json_data, corpus_test, test_questionWords, question_words, qwordTagMap)"
   ]
  },
  {
   "cell_type": "code",
   "execution_count": 51,
   "metadata": {},
   "outputs": [
    {
     "name": "stderr",
     "output_type": "stream",
     "text": [
      "/Library/Frameworks/Python.framework/Versions/3.6/lib/python3.6/site-packages/sklearn/preprocessing/_encoders.py:368: FutureWarning: The handling of integer data will change in version 0.22. Currently, the categories are determined based on the range [0, max(values)], while in the future they will be determined based on the unique values.\n",
      "If you want the future behaviour and silence this warning, you can specify \"categories='auto'\".\n",
      "In case you used a LabelEncoder before this OneHotEncoder to convert the categories to integers, then you can now use the OneHotEncoder directly.\n",
      "  warnings.warn(msg, FutureWarning)\n"
     ]
    }
   ],
   "source": [
    "features = [test_jac_similarity, test_cos_similarity, test_verbCounts, test_nounCounts, test_nerCounts, test_similarWords, test_questionWords]\n",
    "X_out,keys = makeFeatures(features)\n",
    "X_out = oneHotEncode(6, X_out)\n",
    "y_pred_test = logisticRegr.predict(X_out)"
   ]
  },
  {
   "cell_type": "code",
   "execution_count": 53,
   "metadata": {},
   "outputs": [],
   "source": [
    "saveToFile(y_pred_test, keys, \"out_test\")"
   ]
  },
  {
   "cell_type": "code",
   "execution_count": null,
   "metadata": {},
   "outputs": [],
   "source": []
  }
 ],
 "metadata": {
  "kernelspec": {
   "display_name": "Python 3",
   "language": "python",
   "name": "python3"
  },
  "language_info": {
   "codemirror_mode": {
    "name": "ipython",
    "version": 3
   },
   "file_extension": ".py",
   "mimetype": "text/x-python",
   "name": "python",
   "nbconvert_exporter": "python",
   "pygments_lexer": "ipython3",
   "version": "3.6.1"
  }
 },
 "nbformat": 4,
 "nbformat_minor": 2
}
